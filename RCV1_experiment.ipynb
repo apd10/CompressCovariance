{
 "cells": [
  {
   "cell_type": "code",
   "execution_count": 1,
   "metadata": {},
   "outputs": [],
   "source": [
    "import numpy as np\n",
    "import numpy.linalg as LA\n",
    "from sklearn.utils import murmurhash3_32\n",
    "from random import randint\n",
    "import matplotlib.pyplot as plt\n",
    "import stats\n",
    "import copy\n",
    "import time\n",
    "import multiprocessing\n",
    "from scipy.special import factorial\n",
    "import math\n",
    "from scipy.stats import poisson\n",
    "from scipy.stats import norm\n",
    "from scipy.stats import binom\n",
    "from scipy.integrate import quad\n",
    "from scipy.stats import multivariate_normal\n",
    "from scipy.stats import mvn\n",
    "from scipy.optimize import fsolve\n",
    "from os.path import dirname, abspath, join\n",
    "from datasets import get_dataset, get_dataset_path\n",
    "import argparse"
   ]
  },
  {
   "cell_type": "code",
   "execution_count": 2,
   "metadata": {},
   "outputs": [],
   "source": [
    "def hashfunc(m):\n",
    "    ss = randint(1, 99999999)\n",
    "    def hash_m(x):\n",
    "        return murmurhash3_32(x,seed=ss)%m\n",
    "    return hash_m\n",
    "\n",
    "\n",
    "class count_sketch():\n",
    "    def __init__(self, n, k):\n",
    "        self.n = n\n",
    "        self.k = k\n",
    "        self.table = np.zeros((n,k))\n",
    "        self.hash_func = [hashfunc(n) for i in range(int(k))]\n",
    "        self.sign_hash = [hashfunc(2) for i in range(int(k))]\n",
    "        self.item_count = 0\n",
    "        \n",
    "    def insert(self, item, index):\n",
    "        loc = np.array([self.hash_func[k](index) for k in range(self.k)])\n",
    "        sign = np.array([(-1)**(self.sign_hash[k](index)) for k in range(self.k)])\n",
    "        self.table[loc,np.arange(self.k)] += item * sign\n",
    "        self.item_count += 1\n",
    "        \n",
    "    def insert_ID_list(self, item, index):\n",
    "        index = index.reshape((len(index), 1))\n",
    "        loc_array = np.apply_along_axis(lambda x: [Hash(x[0]) for Hash in sketch.hash_func], 1, index)\n",
    "        sign_array = np.apply_along_axis(lambda x: [(-1)**Hash(x[0]) for Hash in sketch.sign_hash], 1, index)\n",
    "        for i in range(loc_array.shape[0]):      \n",
    "            self.table[loc_array[i],np.arange(self.k)] += item[i] * sign_array[i]\n",
    "        \n",
    "    def retrieve(self, index):\n",
    "        loc = np.array([self.hash_func[k](index) for k in range(self.k)])\n",
    "        sign = np.array([(-1)**(self.sign_hash[k](index)) for k in range(self.k)])\n",
    "        items = self.table[loc,np.arange(self.k)]*sign\n",
    "        return np.median(items)\n",
    "    \n",
    "    def retrieve_ID_list(self, index):\n",
    "        index = index.reshape((len(index), 1))\n",
    "        loc_array = np.apply_along_axis(lambda x: [Hash(x[0]) for Hash in sketch.hash_func], 1, index)\n",
    "        sign_array = np.apply_along_axis(lambda x: [(-1)**Hash(x[0]) for Hash in sketch.sign_hash], 1, index)\n",
    "        item_array = self.table[loc_array.flatten(), np.tile(np.arange(self.k), loc_array.shape[0])]\n",
    "        item_array = item_array.reshape(loc_array.shape) * sign_array\n",
    "        return np.median(item_array, axis = 1)\n",
    "    \n",
    "    def retrieve_item_list(self, index, VAR = False):\n",
    "        loc = np.array([self.hash_func[k](index) for k in range(self.k)])\n",
    "        sign = np.array([(-1)**(self.sign_hash[k](index)) for k in range(self.k)])\n",
    "        items = self.table[loc,np.arange(self.k)]*sign\n",
    "        if VAR:\n",
    "            item_var = np.var(np.sort(item_list)[3:(self.k-3)])\n",
    "            return items, item_var\n",
    "        else:\n",
    "            return items\n",
    "    \n",
    "#     def retrieve_var(self, index):\n",
    "#         loc = np.array([self.hash_func[k](index) for k in range(self.k)])\n",
    "#         sign = np.array([(-1)**(self.sign_hash[k](index)) for k in range(self.k)])\n",
    "#         items = self.table[loc,np.arange(self.k)]*sign\n",
    "#         return np.var(items)\n",
    "    \n",
    "    def clean():\n",
    "        self.table = np.zeros((n,k))\n",
    "        self.item_count = 0\n",
    "\n",
    "        \n",
    "def correlation_from_covariance(covariance):\n",
    "    v = np.sqrt(np.diag(covariance))\n",
    "    outer_v = np.outer(v, v)\n",
    "    correlation = covariance / outer_v\n",
    "    correlation[covariance == 0] = 0\n",
    "    return correlation"
   ]
  },
  {
   "cell_type": "code",
   "execution_count": 10,
   "metadata": {},
   "outputs": [],
   "source": [
    "DATA_PATH = './rcv1/rcv1_train.binary.bz2'\n",
    "data = get_dataset_path(DATA_PATH)[0].toarray()\n",
    "\n",
    "NUM_FEATURES_ORIGIN = 20000\n",
    "NUM_SAMPLES_ORIGIN = 6000\n",
    "## Split 1000 samples to filter the sparse features and \n",
    "## evaluate the standard deviation of the variables\n",
    "NUM_SAMPLES_EXPLORE = 1000\n",
    "NUM_SAMPLES = 5000"
   ]
  },
  {
   "cell_type": "code",
   "execution_count": 11,
   "metadata": {},
   "outputs": [],
   "source": [
    "num_features = data.shape[1]\n",
    "num_samples = data.shape[0]\n",
    "features = np.random.randint(0, num_features, NUM_FEATURES_ORIGIN)\n",
    "samples = np.random.randint(0, num_samples, NUM_SAMPLES_ORIGIN)\n",
    "data = data[samples[:,None],features]\n",
    "\n",
    "# mean_obs = np.apply_along_axis(np.mean, 0, data)\n",
    "# # var_obs = (data - mean_obs).T@(data - mean_obs)/num_samples\n",
    "# var_obs = data.T @ data / num_samples"
   ]
  },
  {
   "cell_type": "code",
   "execution_count": 12,
   "metadata": {},
   "outputs": [],
   "source": [
    "## use 1000 samples to filter the sparse features\n",
    "sparsity = (data[0:NUM_SAMPLES_EXPLORE,:] > 0)*1\n",
    "abundant_feature = np.apply_along_axis(np.sum, 0, sparsity)\n",
    "data = data[NUM_SAMPLES_EXPLORE:(NUM_SAMPLES_ORIGIN),abundant_feature>=10]\n",
    "\n",
    "## data_sample uses 1000 samples to evaluate the standard deviation of the variables\n",
    "data_sample = data[0:NUM_SAMPLES_EXPLORE,:]\n",
    "\n",
    "## Number of features left\n",
    "NUM_FEATURES = data.shape[1]"
   ]
  },
  {
   "cell_type": "markdown",
   "metadata": {},
   "source": [
    "## Determine the exploration period and thresholds"
   ]
  },
  {
   "cell_type": "code",
   "execution_count": 15,
   "metadata": {},
   "outputs": [],
   "source": [
    "def miss_prop_at_t(x, n, R, k, sigma, signal, alpha, T, t):\n",
    "    order_expect = -norm.ppf(((k - 1) / 2 - 0.375) / (k + 1 - 2 * 0.375))\n",
    "    sigma_x = sigma * np.sqrt(1 / t + math.pi * (n - 1) * (1 - alpha) / (2 * k * t * (R - alpha)))\n",
    "    percentile_1 = -x / sigma_x\n",
    "    percentile_2 = -(x / sigma_x - order_expect)\n",
    "    p = 0.5 + 0.5 * ((R - alpha) / R) ** (n - 1)\n",
    "    prob_1 = p ** k\n",
    "    prob_2 = k * (1 - p) * p ** (k - 1)\n",
    "\n",
    "    return prob_1 * norm.cdf(percentile_1) + prob_2 * norm.cdf(percentile_2) + (1 - prob_1 - prob_2)\n",
    "\n",
    "\n",
    "def miss_prop_after_t(theta, Tau, n, R, k, sigma, signal, alpha, T, t):\n",
    "    order_expect = -norm.ppf((k / 2 - 0.375) / (k + 1 - 2 * 0.375))\n",
    "    var = math.pi * (n - 1) * (1 - alpha) * sigma ** 2 / (2 * k * (R - alpha))\n",
    "\n",
    "    nu_0 = t / T * signal\n",
    "    nu_1 = (signal - theta) / T\n",
    "    nu_0_tilde = t / T * (signal - order_expect * np.sqrt(var / t))\n",
    "    nu_1_tilde = 1 / T * (signal - theta - order_expect * np.sqrt(var) * (np.sqrt(t + 1) - np.sqrt(t)))\n",
    "\n",
    "    omega_0 = np.sqrt(t / T ** 2 * (1 + var))\n",
    "    omega_1 = omega_0 / np.sqrt(t)\n",
    "    omega_0_tilde = omega_0\n",
    "    omega_1_tilde = omega_1\n",
    "\n",
    "    a1 = np.exp(-nu_0 ** 2 / (2 * omega_0 ** 2) + 2 * Tau * nu_1 / omega_1 ** 2 + (\n",
    "                nu_0 - 2 * nu_1 * omega_0 ** 2 / omega_1 ** 2) ** 2 / (2 * omega_0 ** 2)) * \\\n",
    "         norm.cdf(((nu_0 - 2 * nu_1 * omega_0 ** 2 / omega_1 ** 2) - Tau) / omega_0)\n",
    "\n",
    "    a2 = np.exp(-nu_0 ** 2 / (2 * omega_0_tilde ** 2) + 2 * Tau * nu_1_tilde / omega_1_tilde ** 2 +\n",
    "                (nu_0_tilde - 2 * nu_1_tilde * omega_0_tilde ** 2 / omega_1_tilde ** 2) ** 2 / (\n",
    "                            2 * omega_0_tilde ** 2)) * \\\n",
    "         norm.cdf(((nu_0_tilde - 2 * nu_1_tilde * omega_0_tilde ** 2 / omega_1_tilde ** 2) - Tau) / omega_0_tilde)\n",
    "\n",
    "    p = 0.5 + 0.5 * ((R - alpha) / R) ** (n - 1)\n",
    "    prob_1 = p ** k\n",
    "    prob_2 = k * (1 - p) * p ** (k - 1)\n",
    "\n",
    "    return a1 * prob_1 + a2 * prob_2\n"
   ]
  },
  {
   "cell_type": "code",
   "execution_count": 19,
   "metadata": {},
   "outputs": [
    {
     "name": "stdout",
     "output_type": "stream",
     "text": [
      "prob at T_0:  0.051316431227461066\n",
      "prob during sampling:  0.145497247400085\n"
     ]
    }
   ],
   "source": [
    "n = NUM_FEATURES * (NUM_FEATURES-1) / 2\n",
    "R = 10000\n",
    "alpha = 5*10**(-3)\n",
    "t = 1300\n",
    "T = NUM_SAMPLES\n",
    "signal = 0.2\n",
    "sigma = 1.04\n",
    "k = 5\n",
    "\n",
    "Tau = 0.01\n",
    "\n",
    "print('prob at T_0: ', miss_prop_at_t(signal-Tau*T/t, n, R, k, sigma, signal, alpha, T, t))\n",
    "\n",
    "theta = 0.155\n",
    "print('prob during sampling: ', miss_prop_after_t(theta, Tau, n, R, k, sigma, signal, alpha, T, t))"
   ]
  },
  {
   "cell_type": "markdown",
   "metadata": {},
   "source": [
    "## Experiments"
   ]
  },
  {
   "cell_type": "code",
   "execution_count": 20,
   "metadata": {},
   "outputs": [],
   "source": [
    "var_obs = data.T @ data / NUM_SAMPLES\n",
    "cor_obs = correlation_from_covariance(var_obs)\n",
    "var_diag = np.diag(var_obs)\n",
    "var_off_diag = var_obs[np.triu_indices(NUM_FEATURES, k=1)]\n",
    "cor_off_diag = cor_obs[np.triu_indices(NUM_FEATURES, k=1)]\n",
    "\n",
    "var_obs_sample = data_sample.T @ data_sample / data_sample.shape[0]\n",
    "var_diag_sample = np.diag(var_obs_sample)\n",
    "var_off_diag_sample = var_obs_sample[np.triu_indices(NUM_FEATURES, k=1)]\n",
    "\n",
    "\n",
    "ID = [id(x) for x in var_off_diag]\n",
    "ID = np.array([str(x) for x in ID])"
   ]
  },
  {
   "cell_type": "code",
   "execution_count": 27,
   "metadata": {},
   "outputs": [],
   "source": [
    "# plt.hist(var_diag, bins=50)\n",
    "# plt.show()\n",
    "\n",
    "# plt.hist(var_diag_sample, bins=50)\n",
    "# plt.show()"
   ]
  },
  {
   "cell_type": "code",
   "execution_count": 21,
   "metadata": {},
   "outputs": [
    {
     "data": {
      "text/plain": [
       "1160"
      ]
     },
     "execution_count": 21,
     "metadata": {},
     "output_type": "execute_result"
    }
   ],
   "source": [
    "## Number of signal variables\n",
    "np.sum(cor_off_diag>0.2)"
   ]
  },
  {
   "cell_type": "code",
   "execution_count": 22,
   "metadata": {},
   "outputs": [
    {
     "name": "stdout",
     "output_type": "stream",
     "text": [
      "1300 0.01 156623 1097\n",
      "1400 0.0131 141679 1086\n",
      "1600 0.0193 121307 1065\n",
      "1800 0.0255 105819 1050\n",
      "2000 0.0317 93675 1038\n",
      "2200 0.0379 84067 1036\n",
      "2400 0.0441 76807 1027\n",
      "2600 0.0503 71068 1022\n",
      "2800 0.0565 65681 1018\n",
      "3000 0.0627 61689 1012\n",
      "3200 0.0689 57683 1012\n",
      "3400 0.0751 54927 1006\n",
      "3600 0.0813 51847 1007\n",
      "3800 0.0875 48755 1004\n",
      "4000 0.0937 46472 1003\n",
      "4200 0.0999 44337 1003\n",
      "4400 0.1061 42248 999\n",
      "4600 0.1123 40325 999\n",
      "4800 0.1185 38883 999\n",
      "5000 0.1247 37452 998\n"
     ]
    }
   ],
   "source": [
    "data_norm = data / (np.ones((NUM_SAMPLES,1))*np.sqrt(var_diag))\n",
    "\n",
    "exploration_period = 1300\n",
    "batch_size = 100\n",
    "block_end = list(np.arange(exploration_period, NUM_SAMPLES, batch_size)) + [NUM_SAMPLES]\n",
    "block_start = [0] + block_end[:-1]\n",
    "\n",
    "\n",
    "CS_RANGE = 10000\n",
    "CS_REP = 5\n",
    "\n",
    "sketch = count_sketch(CS_RANGE, CS_REP)\n",
    "sketch.clean\n",
    "\n",
    "for i, (start, end) in enumerate(zip(block_start, block_end)):\n",
    "    data_batch = data_norm[start:end,:]\n",
    "    var_batch = data_batch.T @ data_batch / NUM_SAMPLES\n",
    "    var_off_diag_batch = var_batch[np.triu_indices(NUM_FEATURES, k=1)]\n",
    "    \n",
    "    ## Filtering\n",
    "    if (i > 0):\n",
    "        var_off_diag_batch = var_off_diag_batch[index_retain]\n",
    "        ID_retain = np.array(ID)[index_retain]     \n",
    "    else:\n",
    "        index_retain = (np.ones(len(ID))>0)\n",
    "        ID_retain = ID\n",
    "    \n",
    "    ## Insertion\n",
    "    sketch.insert_ID_list(var_off_diag_batch, ID_retain)\n",
    "    \n",
    "    ## Retrieve\n",
    "    var_off_diag_2 = sketch.retrieve_ID_list(ID)\n",
    "    \n",
    "    ## \n",
    "    sample_threshold = 0.01 + 0.155*i/NUM_SAMPLES*batch_size\n",
    "    index_retain = (np.abs(var_off_diag_2) > sample_threshold)\n",
    "    \n",
    "    if (end==exploration_period) or (end % 200 == 0):\n",
    "        print(end, round(sample_threshold, 5), np.sum(index_retain), \n",
    "              np.sum(index_retain*(cor_off_diag>0.2)))"
   ]
  },
  {
   "cell_type": "code",
   "execution_count": 23,
   "metadata": {},
   "outputs": [],
   "source": [
    "off_diag = cor_obs[np.triu_indices(NUM_FEATURES, k=1)] \n",
    "\n",
    "F1_score = []\n",
    "precision_list = []\n",
    "recall_list = [] \n",
    "\n",
    "\n",
    "threshold_list = np.arange(0.1, 0.5, 0.005)\n",
    "for thres in threshold_list:\n",
    "    positive_index = (np.abs(off_diag)>0.2)\n",
    "    predict_positive_index = (np.abs(var_off_diag_2)>thres)\n",
    "    fn = np.sum(positive_index*(1-predict_positive_index))\n",
    "    tp = np.sum(predict_positive_index*positive_index)\n",
    "    \n",
    "    precision = tp/np.sum(predict_positive_index)\n",
    "    recall = tp/(tp+fn)\n",
    "    \n",
    "    ## Deviation from the true covariance matrix\n",
    "    F1_score += [2*precision*recall/(precision+recall)]\n",
    "    precision_list += [precision]\n",
    "    recall_list += [recall]"
   ]
  },
  {
   "cell_type": "code",
   "execution_count": 26,
   "metadata": {},
   "outputs": [
    {
     "name": "stdout",
     "output_type": "stream",
     "text": [
      "Best F1 Score:  0.4692267227774855\n"
     ]
    },
    {
     "data": {
      "image/png": "[encoded data removed]",
      "text/plain": [
       "<Figure size 432x288 with 1 Axes>"
      ]
     },
     "metadata": {
      "needs_background": "light"
     },
     "output_type": "display_data"
    }
   ],
   "source": [
    "print('Best F1 Score: ', np.max(F1_score))\n",
    "\n",
    "plt.plot(threshold_list, F1_score)\n",
    "plt.show()\n",
    "\n",
    "# plt.plot(threshold_list, precision_list)\n",
    "# plt.show()\n",
    "\n",
    "# plt.plot(threshold_list, recall_list)\n",
    "# plt.show()\n",
    "\n",
    "# plt.plot(1 - np.array(precision_list), np.array(recall_list))\n",
    "# plt.xlabel('1 - Precision')\n",
    "# plt.ylabel('Recall')\n",
    "# plt.show()"
   ]
  },
  {
   "cell_type": "code",
   "execution_count": 28,
   "metadata": {},
   "outputs": [],
   "source": [
    "# max_F1_score_list = []\n",
    "\n",
    "# signal_list = np.arange(0.1, 0.4, 0.01)\n",
    "# threshold_list = np.arange(0.1, 0.5, 0.005)\n",
    "\n",
    "# for signal in signal_list:\n",
    "#     max_F1_score = 0\n",
    "#     for thres in threshold_list:\n",
    "#         positive_index = (np.abs(off_diag)>signal)\n",
    "#         predict_positive_index = (np.abs(var_off_diag_2)>thres)\n",
    "#         fn = np.sum(positive_index*(1-predict_positive_index))\n",
    "#         tp = np.sum(predict_positive_index*positive_index)\n",
    "\n",
    "#         precision = tp/np.sum(predict_positive_index)\n",
    "#         recall = tp/(tp+fn)\n",
    "\n",
    "#         ## Deviation from the true covariance matrix\n",
    "#         max_F1_score = max(0, 2*precision*recall/(precision+recall))\n",
    "#     max_F1_score_list += [max_F1_score]\n",
    "    \n",
    "# plt.plot(signal_list, max_F1_score_list)\n",
    "# plt.show()"
   ]
  },
  {
   "cell_type": "markdown",
   "metadata": {},
   "source": [
    "## Conventional Count Sketch"
   ]
  },
  {
   "cell_type": "code",
   "execution_count": 29,
   "metadata": {},
   "outputs": [],
   "source": [
    "CS_RANGE = 10000\n",
    "CS_REP = 5\n",
    "\n",
    "sketch = count_sketch(CS_RANGE, CS_REP)\n",
    "sketch.clean\n",
    "\n",
    "cor_off_diag = (data_norm.T @ data_norm / NUM_SAMPLES)[np.triu_indices(NUM_FEATURES, k=1)]\n",
    "\n",
    "for item, mem_id in zip(cor_off_diag, ID):\n",
    "    sketch.insert(item, mem_id)\n",
    "\n",
    "var_off_diag_2 = []\n",
    "CMS_var = []\n",
    "for mem_id in ID:\n",
    "    var_off_diag_2 += [sketch.retrieve(mem_id)]\n",
    "    \n",
    "# var_off_diag_prod_2 = []\n",
    "# var_off_diag_sign_2 = []\n",
    "# for mem_id in ID:\n",
    "#     item_list = np.sort(sketch.retrieve_item_list(mem_id))\n",
    "#     var_off_diag_prod_2 += [np.prod(item_list[1:(sketch.k-1)])]\n",
    "#     var_off_diag_sign_2 += [np.sum(np.sign(item_list))]\n",
    "    \n",
    "    \n",
    "# index = np.triu_indices(NUM_FEATURES, k=1)\n",
    "\n",
    "# var_CMS = np.diag(var_diag)\n",
    "# var_CMS[index] = np.array(var_off_diag_2)\n",
    "\n",
    "# var_CMS = var_CMS.T + var_CMS -  np.diag(var_diag)"
   ]
  },
  {
   "cell_type": "code",
   "execution_count": 30,
   "metadata": {},
   "outputs": [
    {
     "name": "stdout",
     "output_type": "stream",
     "text": [
      "Best F1 Score:  0.3565044687189672\n"
     ]
    },
    {
     "data": {
      "image/png": "[encoded data removed]",
      "text/plain": [
       "<Figure size 432x288 with 1 Axes>"
      ]
     },
     "metadata": {
      "needs_background": "light"
     },
     "output_type": "display_data"
    }
   ],
   "source": [
    "off_diag = cor_obs[np.triu_indices(NUM_FEATURES, k=1)]\n",
    "\n",
    "F1_score_2 = []\n",
    "precision_list_2 = []\n",
    "recall_list_2 = []\n",
    "    \n",
    "threshold_list = np.arange(0.1, 0.5, 0.005)\n",
    "for thres in threshold_list:\n",
    "    positive_index = (np.abs(off_diag)>0.2)*1\n",
    "    predict_positive_index = (np.abs(var_off_diag_2)>thres)\n",
    "    fn = np.sum(positive_index*(1-predict_positive_index))\n",
    "    tp = np.sum(predict_positive_index*positive_index)\n",
    "    precision = tp/np.sum(predict_positive_index)\n",
    "    recall = tp/(tp+fn)\n",
    "    \n",
    "    ## Deviation from the true covariance matrix\n",
    "    F1_score_2 += [2*precision*recall/(precision+recall)]\n",
    "    precision_list_2 += [precision]\n",
    "    recall_list_2 += [recall]\n",
    "\n",
    "    \n",
    "print('Best F1 Score: ', np.max(F1_score_2))\n",
    "plt.plot(threshold_list, F1_score_2)\n",
    "plt.show()\n",
    "\n",
    "# plt.plot(threshold_list, precision_list)\n",
    "# plt.show()\n",
    "\n",
    "# plt.plot(threshold_list, recall_list)\n",
    "# plt.show()"
   ]
  },
  {
   "cell_type": "code",
   "execution_count": 20,
   "metadata": {},
   "outputs": [],
   "source": [
    "# max_F1_score_list_2 = []\n",
    "\n",
    "# # signal_list = np.arange(0.1, 0.4, 0.01)\n",
    "# # threshold_list = np.arange(0.1, 0.5, 0.005)\n",
    "\n",
    "# for signal in signal_list:\n",
    "#     max_F1_score = 0\n",
    "#     for thres in threshold_list:\n",
    "#         positive_index = (np.abs(off_diag)>signal)\n",
    "#         predict_positive_index = (np.abs(var_off_diag_2)>thres)\n",
    "#         fn = np.sum(positive_index*(1-predict_positive_index))\n",
    "#         tp = np.sum(predict_positive_index*positive_index)\n",
    "\n",
    "#         precision = tp/np.sum(predict_positive_index)\n",
    "#         recall = tp/(tp+fn)\n",
    "\n",
    "#         ## Deviation from the true covariance matrix\n",
    "#         max_F1_score_2 = max(0, 2*precision*recall/(precision+recall))\n",
    "#     max_F1_score_list_2 += [max_F1_score]"
   ]
  }
 ],
 "metadata": {
  "kernelspec": {
   "display_name": "Python 3",
   "language": "python",
   "name": "python3"
  },
  "language_info": {
   "codemirror_mode": {
    "name": "ipython",
    "version": 3
   },
   "file_extension": ".py",
   "mimetype": "text/x-python",
   "name": "python",
   "nbconvert_exporter": "python",
   "pygments_lexer": "ipython3",
   "version": "3.7.4"
  }
 },
 "nbformat": 4,
 "nbformat_minor": 2
}
