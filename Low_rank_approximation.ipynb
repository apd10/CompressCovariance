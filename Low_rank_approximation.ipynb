{
 "cells": [
  {
   "cell_type": "code",
   "execution_count": 3,
   "metadata": {},
   "outputs": [],
   "source": [
    "import cvxpy as cp\n",
    "import numpy as np\n",
    "import numpy.linalg as LA\n",
    "from sklearn.utils import murmurhash3_32\n",
    "from random import randint\n",
    "import matplotlib.pyplot as plt\n",
    "import copy\n",
    "import time\n",
    "import multiprocessing\n",
    "from scipy.special import factorial\n",
    "import math\n",
    "\n",
    "import sklearn.datasets as d\n",
    "import pickle\n",
    "from scipy import optimize\n",
    "import random"
   ]
  },
  {
   "cell_type": "code",
   "execution_count": 37,
   "metadata": {},
   "outputs": [],
   "source": [
    "## Load dataset\n",
    "with open('./Simulation_experiment/data.pickle', 'rb') as handle:\n",
    "    data = pickle.load(handle)\n",
    "\n",
    "## Evaluate the empirical covariance matrix \n",
    "mean_obs = np.apply_along_axis(np.mean, 0, data)\n",
    "var_obs = (data - mean_obs).T@(data - mean_obs)/data.shape[0]"
   ]
  },
  {
   "cell_type": "code",
   "execution_count": 46,
   "metadata": {},
   "outputs": [],
   "source": [
    "p = data.shape[1]\n",
    "m = int(p*0.15)   ## m is the number of random projection vectors \n",
    "\n",
    "## S are the random gaussian vectors and normalize the norm of each vector\n",
    "S = np.random.normal(0,1,p*m).reshape((p,m))\n",
    "mean_S = np.apply_along_axis(LA.norm, 0, S)\n",
    "S = S/mean_S\n",
    "\n",
    "## Add each column of S to A\n",
    "A = []\n",
    "for i in range(S.shape[1]):\n",
    "    A.append(S[:,i].reshape((p,1)))\n",
    "    \n",
    "## The projection of empirical covariance matrix   \n",
    "b = np.diag(S.T @ var_obs @ S)"
   ]
  },
  {
   "cell_type": "code",
   "execution_count": 47,
   "metadata": {},
   "outputs": [
    {
     "name": "stdout",
     "output_type": "stream",
     "text": [
      "The optimal value is 428.57174427777335\n",
      "execution time: 1061.9839823246002\n"
     ]
    }
   ],
   "source": [
    "# X is the matrix to recover\n",
    "X = cp.Variable((p,p), symmetric=True)\n",
    "# The operator >> denotes matrix inequality.\n",
    "constraints = [X >> 0]\n",
    "constraints += [ A[i].T @ X @ A[i] == b[i]  for i in range(m)]\n",
    "\n",
    "prob = cp.Problem(cp.Minimize(cp.trace(X)), constraints)\n",
    "\n",
    "start = time.time()\n",
    "prob.solve()\n",
    "print(\"The optimal value is\", prob.value)\n",
    "print('execution time:', time.time()-start)"
   ]
  },
  {
   "cell_type": "code",
   "execution_count": null,
   "metadata": {},
   "outputs": [],
   "source": [
    "s, V = LA.eig(X.value)\n",
    "print(np.trace(X.value), np.trace(var_obs))\n",
    "\n",
    "\n",
    "## Eigenvalues of X should decay very fast (approximate low rank)\n",
    "plt.plot(np.sort(s))\n",
    "plt.show"
   ]
  },
  {
   "cell_type": "code",
   "execution_count": 45,
   "metadata": {},
   "outputs": [],
   "source": [
    "with open('./Simulation_experiment/recovered_covariance_m%d.pickle' %m, 'wb') as handle:\n",
    "    pickle.dump(X.value, handle)"
   ]
  },
  {
   "cell_type": "code",
   "execution_count": 48,
   "metadata": {},
   "outputs": [
    {
     "data": {
      "image/png": "[encoded data removed]",
      "text/plain": [
       "<Figure size 432x288 with 1 Axes>"
      ]
     },
     "metadata": {
      "needs_background": "light"
     },
     "output_type": "display_data"
    }
   ],
   "source": [
    "with open('./Simulation_experiment/true_covariance.pickle', 'rb') as handle:\n",
    "    off_diag = pickle.load(handle)\n",
    "\n",
    "var_off_diag = X.value[np.triu_indices(p, k=1)]\n",
    "\n",
    "F1_score = []\n",
    "precision_list = []\n",
    "recall_list = []\n",
    "\n",
    "threshold_list = np.arange(0.05, 0.8, 0.01)\n",
    "for thres in threshold_list:\n",
    "    positive_index = (np.abs(off_diag)>0)*1\n",
    "    predict_positive_index = (np.abs(var_off_diag)>thres)\n",
    "    fn = np.sum(positive_index*(1-predict_positive_index))\n",
    "    tp = np.sum(predict_positive_index*positive_index)\n",
    "    precision = tp/np.sum(predict_positive_index)\n",
    "    recall = tp/(tp+fn)\n",
    "\n",
    "    ## Deviation from the true covariance matrix\n",
    "    F1_score += [2*precision*recall/(precision+recall)]\n",
    "    precision_list += [precision]\n",
    "    recall_list += [recall]\n",
    "    \n",
    "plt.plot(threshold_list, F1_score)\n",
    "plt.show()"
   ]
  }
 ],
 "metadata": {
  "kernelspec": {
   "display_name": "Python 3",
   "language": "python",
   "name": "python3"
  },
  "language_info": {
   "codemirror_mode": {
    "name": "ipython",
    "version": 3
   },
   "file_extension": ".py",
   "mimetype": "text/x-python",
   "name": "python",
   "nbconvert_exporter": "python",
   "pygments_lexer": "ipython3",
   "version": "3.7.6"
  }
 },
 "nbformat": 4,
 "nbformat_minor": 4
}
