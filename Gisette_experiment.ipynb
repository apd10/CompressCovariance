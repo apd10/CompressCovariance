{
 "cells": [
  {
   "cell_type": "code",
   "execution_count": 1,
   "metadata": {},
   "outputs": [],
   "source": [
    "import numpy as np\n",
    "import numpy.linalg as LA\n",
    "from sklearn.utils import murmurhash3_32\n",
    "from random import randint\n",
    "import matplotlib.pyplot as plt\n",
    "#import stats\n",
    "#import copy\n",
    "import time\n",
    "import multiprocessing\n",
    "from scipy.special import factorial\n",
    "import math\n",
    "from scipy.stats import poisson\n",
    "from scipy.stats import norm\n",
    "from scipy.stats import binom\n",
    "from scipy.integrate import quad\n",
    "from scipy.stats import multivariate_normal\n",
    "from scipy.stats import mvn\n",
    "from scipy.optimize import fsolve\n",
    "from os.path import dirname, abspath, join\n",
    "#from datasets import get_dataset, get_dataset_path\n",
    "from datasets import get_dataset\n",
    "import argparse\n",
    "import pickle"
   ]
  },
  {
   "cell_type": "code",
   "execution_count": 2,
   "metadata": {},
   "outputs": [],
   "source": [
    "def hashfunc(m):\n",
    "    ss = randint(1, 99999999)\n",
    "    def hash_m(x):\n",
    "        return murmurhash3_32(x,seed=ss)%m\n",
    "    return hash_m\n",
    "\n",
    "\n",
    "class count_sketch():\n",
    "    def __init__(self, n, k):\n",
    "        self.n = n\n",
    "        self.k = k\n",
    "        self.table = np.zeros((n,k))\n",
    "        self.hash_func = [hashfunc(n) for i in range(int(k))]\n",
    "        self.sign_hash = [hashfunc(2) for i in range(int(k))]\n",
    "        self.item_count = 0\n",
    "        \n",
    "    def insert(self, item, index):\n",
    "        loc = np.array([self.hash_func[k](index) for k in range(self.k)])\n",
    "        sign = np.array([(-1)**(self.sign_hash[k](index)) for k in range(self.k)])\n",
    "        self.table[loc,np.arange(self.k)] += item * sign\n",
    "        self.item_count += 1\n",
    "        \n",
    "    def insert_ID_list(self, item, index):\n",
    "        index = index.reshape((len(index), 1))\n",
    "        loc_array = np.apply_along_axis(lambda x: [Hash(x[0]) for Hash in sketch.hash_func], 1, index)\n",
    "        sign_array = np.apply_along_axis(lambda x: [(-1)**Hash(x[0]) for Hash in sketch.sign_hash], 1, index)\n",
    "        for i in range(loc_array.shape[0]):      \n",
    "            self.table[loc_array[i],np.arange(self.k)] += item[i] * sign_array[i]\n",
    "        \n",
    "    def retrieve(self, index):\n",
    "        loc = np.array([self.hash_func[k](index) for k in range(self.k)])\n",
    "        sign = np.array([(-1)**(self.sign_hash[k](index)) for k in range(self.k)])\n",
    "        items = self.table[loc,np.arange(self.k)]*sign\n",
    "        return np.median(items)\n",
    "    \n",
    "    def retrieve_ID_list(self, index):\n",
    "        index = index.reshape((len(index), 1))\n",
    "        loc_array = np.apply_along_axis(lambda x: [Hash(x[0]) for Hash in sketch.hash_func], 1, index)\n",
    "        sign_array = np.apply_along_axis(lambda x: [(-1)**Hash(x[0]) for Hash in sketch.sign_hash], 1, index)\n",
    "        item_array = self.table[loc_array.flatten(), np.tile(np.arange(self.k), loc_array.shape[0])]\n",
    "        item_array = item_array.reshape(loc_array.shape) * sign_array\n",
    "        return np.median(item_array, axis = 1)\n",
    "    \n",
    "    def retrieve_item_list(self, index, VAR = False):\n",
    "        loc = np.array([self.hash_func[k](index) for k in range(self.k)])\n",
    "        sign = np.array([(-1)**(self.sign_hash[k](index)) for k in range(self.k)])\n",
    "        items = self.table[loc,np.arange(self.k)]*sign\n",
    "        if VAR:\n",
    "            item_var = np.var(np.sort(item_list)[3:(self.k-3)])\n",
    "            return items, item_var\n",
    "        else:\n",
    "            return items\n",
    "    \n",
    "#     def retrieve_var(self, index):\n",
    "#         loc = np.array([self.hash_func[k](index) for k in range(self.k)])\n",
    "#         sign = np.array([(-1)**(self.sign_hash[k](index)) for k in range(self.k)])\n",
    "#         items = self.table[loc,np.arange(self.k)]*sign\n",
    "#         return np.var(items)\n",
    "    \n",
    "    def clean():\n",
    "        self.table = np.zeros((n,k))\n",
    "        self.item_count = 0\n",
    "\n",
    "        \n",
    "def correlation_from_covariance(covariance):\n",
    "    v = np.sqrt(np.diag(covariance))\n",
    "    outer_v = np.outer(v, v)\n",
    "    correlation = covariance / outer_v\n",
    "    correlation[covariance == 0] = 0\n",
    "    return correlation"
   ]
  },
  {
   "cell_type": "code",
   "execution_count": 3,
   "metadata": {},
   "outputs": [],
   "source": [
    "#DATA_PATH = './gisette/gisette_scale.bz2'\n",
    "#data = get_dataset_path(DATA_PATH)[0].toarray()\n",
    "data = get_dataset(\"gisette\")[0].toarray()\n",
    "\n",
    "np.random.seed(100)\n",
    "NUM_FEATURES_ORIGIN = 1000\n",
    "NUM_SAMPLES_ORIGIN = data.shape[0]\n",
    "## Split 1000 samples to filter the sparse features and \n",
    "## evaluate the standard deviation of the variables\n",
    "NUM_SAMPLES_EXPLORE = 500\n",
    "NUM_SAMPLES = 5500\n"
   ]
  },
  {
   "cell_type": "code",
   "execution_count": 4,
   "metadata": {},
   "outputs": [
    {
     "name": "stdout",
     "output_type": "stream",
     "text": [
      "(6000, 5000)\n",
      "(6000, 1000)\n"
     ]
    }
   ],
   "source": [
    "print(data.shape)\n",
    "num_features = data.shape[1]\n",
    "num_samples = data.shape[0]\n",
    "features = np.random.randint(0, num_features, NUM_FEATURES_ORIGIN)\n",
    "#samples = np.random.randint(0, num_samples, NUM_SAMPLES_ORIGIN)\n",
    "#data = data[samples[:,None],features]\n",
    "data = data[:,features]\n",
    "\n",
    "# Adjust to center around 0\n",
    "data = data + 1\n",
    "\n",
    "# mean_obs = np.apply_along_axis(np.mean, 0, data)\n",
    "# # var_obs = (data - mean_obs).T@(data - mean_obs)/num_samples\n",
    "# var_obs = data.T @ data / num_samples\n",
    "print(data.shape)"
   ]
  },
  {
   "cell_type": "code",
   "execution_count": 5,
   "metadata": {},
   "outputs": [],
   "source": [
    "## use 500 samples to filter the sparse features\n",
    "mean_obs_sample = np.apply_along_axis(np.mean, 0, data[0:NUM_SAMPLES_EXPLORE,:])\n",
    "#ADI#sparsity = (data[0:NUM_SAMPLES_EXPLORE,:] - mean_obs_sample[None,:] != 0)*1\n",
    "#ADI#abundant_feature = np.apply_along_axis(np.sum, 0, sparsity)\n",
    "\n",
    "## data_sample uses 500 samples to evaluate the standard deviation of the variables\n",
    "data_sample = data[0:NUM_SAMPLES_EXPLORE,:]\n",
    "data = data[NUM_SAMPLES_EXPLORE:(NUM_SAMPLES_ORIGIN),:]\n",
    "\n",
    "## Number of features left\n",
    "NUM_FEATURES = data.shape[1]"
   ]
  },
  {
   "cell_type": "code",
   "execution_count": 6,
   "metadata": {},
   "outputs": [
    {
     "data": {
      "text/plain": [
       "1000"
      ]
     },
     "execution_count": 6,
     "metadata": {},
     "output_type": "execute_result"
    }
   ],
   "source": [
    "data.shape[1]"
   ]
  },
  {
   "cell_type": "code",
   "execution_count": 7,
   "metadata": {},
   "outputs": [],
   "source": [
    "with open('./gisette/results/sampled_data.pickle', 'wb') as handle:\n",
    "    pickle.dump(data, handle, protocol=pickle.HIGHEST_PROTOCOL)"
   ]
  },
  {
   "cell_type": "markdown",
   "metadata": {},
   "source": [
    "## Determine the exploration period and thresholds"
   ]
  },
  {
   "cell_type": "code",
   "execution_count": 8,
   "metadata": {},
   "outputs": [],
   "source": [
    "def miss_prop_at_t(x, n, R, k, sigma, signal, alpha, T, t):\n",
    "    order_expect = -norm.ppf(((k - 1) / 2 - 0.375) / (k + 1 - 2 * 0.375))\n",
    "    sigma_x = sigma * np.sqrt(1 / t + math.pi * (n - 1) * (1 - alpha) / (2 * k * t * (R - alpha)))\n",
    "    percentile_1 = -x / sigma_x\n",
    "    percentile_2 = -(x / sigma_x - order_expect)\n",
    "    p = 0.5 + 0.5 * ((R - alpha) / R) ** (n - 1)\n",
    "    prob_1 = p ** k\n",
    "    prob_2 = k * (1 - p) * p ** (k - 1)\n",
    "    \n",
    "    print('Saturating probability:', 1 - prob_1 - prob_2)\n",
    "    return prob_1 * norm.cdf(percentile_1) + prob_2 * norm.cdf(percentile_2) + (1 - prob_1 - prob_2)\n",
    "\n",
    "\n",
    "def miss_prop_after_t(theta, Tau, n, R, k, sigma, signal, alpha, T, t):\n",
    "    order_expect = -norm.ppf((k / 2 - 0.375) / (k + 1 - 2 * 0.375))\n",
    "    var = math.pi * (n - 1) * (1 - alpha) * sigma ** 2 / (2 * k * (R - alpha))\n",
    "\n",
    "    nu_0 = t / T * signal\n",
    "    nu_1 = (signal - theta) / T\n",
    "    nu_0_tilde = t / T * (signal - order_expect * np.sqrt(var / t))\n",
    "    nu_1_tilde = 1 / T * (signal - theta - order_expect * np.sqrt(var) * (np.sqrt(t + 1) - np.sqrt(t)))\n",
    "\n",
    "    omega_0 = np.sqrt(t / T ** 2 * (1 + var))\n",
    "    omega_1 = omega_0 / np.sqrt(t)\n",
    "    omega_0_tilde = omega_0\n",
    "    omega_1_tilde = omega_1\n",
    "\n",
    "    a1 = np.exp(-nu_0 ** 2 / (2 * omega_0 ** 2) + 2 * Tau * nu_1 / omega_1 ** 2 + (\n",
    "                nu_0 - 2 * nu_1 * omega_0 ** 2 / omega_1 ** 2) ** 2 / (2 * omega_0 ** 2)) * \\\n",
    "         norm.cdf(((nu_0 - 2 * nu_1 * omega_0 ** 2 / omega_1 ** 2) - Tau) / omega_0)\n",
    "\n",
    "    a2 = np.exp(-nu_0 ** 2 / (2 * omega_0_tilde ** 2) + 2 * Tau * nu_1_tilde / omega_1_tilde ** 2 +\n",
    "                (nu_0_tilde - 2 * nu_1_tilde * omega_0_tilde ** 2 / omega_1_tilde ** 2) ** 2 / (\n",
    "                            2 * omega_0_tilde ** 2)) * \\\n",
    "         norm.cdf(((nu_0_tilde - 2 * nu_1_tilde * omega_0_tilde ** 2 / omega_1_tilde ** 2) - Tau) / omega_0_tilde)\n",
    "\n",
    "    p = 0.5 + 0.5 * ((R - alpha) / R) ** (n - 1)\n",
    "    prob_1 = p ** k\n",
    "    prob_2 = k * (1 - p) * p ** (k - 1)\n",
    "\n",
    "    return a1 * prob_1 + a2 * prob_2\n",
    "\n",
    "def find_best_exploration_period_m2(signal, alpha, init_threshold, num_features, cs_params, total_samples, target_miss_probability):\n",
    "    '''\n",
    "        signal : signal level (for correlation recommended is 0.2)\n",
    "        alpha : proportion of signal variables . More of an upper bound . give reasonable value. (eg. 0.5% = 0.005)\n",
    "        init_threshold : also called tau, threshold immediately after the exploration period.\n",
    "             >> should be low enough so that we can have a small exploration period\n",
    "\n",
    "        num_features : number of variables to insert in count sketch\n",
    "        cs_params : dictionary where you can store the params of cs , expected keys K, R\n",
    "        total_samples: total number of samples that will be added\n",
    "        target_miss_probability : target miss probability (this should be low enough)\n",
    "        \n",
    "    '''\n",
    "    #miss_prop_at_t(x, n=n, R=R, k=k, sigma=sigma, signal=signal, alpha=alpha, T=T, t=t):\n",
    "    print(signal, alpha, init_threshold, num_features, cs_params, total_samples, target_miss_probability)\n",
    "\n",
    "    sigma = np.sqrt(1 + signal**2) # TODO This is true only for correlations\n",
    "    start = 1\n",
    "    end = total_samples\n",
    "    values = []\n",
    "    mid = start\n",
    "    while(end > start + 1):\n",
    "        mid = int((start + end)/2)\n",
    "        x = signal-init_threshold * total_samples / mid #TODO (zhenwei verify)\n",
    "        prob = miss_prop_at_t(x, n=num_features, R=cs_params[\"R\"],\n",
    "                            k=cs_params[\"K\"], sigma=sigma, signal=signal,\n",
    "                            alpha=alpha, T=total_samples, t=mid)\n",
    "\n",
    "        values.append((mid, prob))\n",
    "        if prob > target_miss_probability:\n",
    "            start = mid\n",
    "        else:\n",
    "            end = mid\n",
    "    print(values)\n",
    "    if total_samples - end < 2:\n",
    "        print(\"The probability limit Failed! finding the approximate spurt point using error : 0.025\")\n",
    "        values = np.sort(values)\n",
    "        selected = values[values[:,0] <= (values[:,0][-1] + 0.025)][0]\n",
    "        print(\"selected\", selected)\n",
    "        return int(selected[1])\n",
    "    else:\n",
    "        return mid\n",
    "    \n",
    "    \n",
    "def find_best_theta(signal, alpha, init_threshold, num_features, cs_params, total_samples, exploration_samples, target_miss_probability):\n",
    "    #def miss_prop_after_t(theta, Tau, n, R, k, sigma, signal, alpha, T, t):\n",
    "    start = 0.001\n",
    "    end = signal - 0.001 # theta has to be less than signal\n",
    "    # least count \n",
    "    least_count = 0.005 # \n",
    "\n",
    "\n",
    "    while(end > start + least_count):\n",
    "        mid = (start + end)/2\n",
    "        sigma = np.sqrt(1 + signal**2) # TODO This is true only for correlations\n",
    "        prob = miss_prop_after_t(theta = mid, Tau = init_threshold,\n",
    "                              n=num_features, R=cs_params[\"R\"],\n",
    "                              k=cs_params[\"K\"], sigma=sigma,\n",
    "                              signal=signal, alpha=alpha, T=total_samples,\n",
    "                              t=exploration_samples)\n",
    "        print(start, end, mid, prob)\n",
    "        if prob < target_miss_probability:\n",
    "            start = mid\n",
    "        else:\n",
    "            end = mid\n",
    "    return start\n",
    "\n",
    "\n"
   ]
  },
  {
   "cell_type": "code",
   "execution_count": null,
   "metadata": {},
   "outputs": [],
   "source": []
  },
  {
   "cell_type": "code",
   "execution_count": 11,
   "metadata": {},
   "outputs": [
    {
     "name": "stdout",
     "output_type": "stream",
     "text": [
      "Saturating probability: 0.030583327188786508\n",
      "prob at T_0:  0.03572715372205368\n",
      "prob during sampling:  0.007983192943159792\n"
     ]
    }
   ],
   "source": [
    "n = NUM_FEATURES * (NUM_FEATURES-1) / 2\n",
    "R = 20000\n",
    "alpha = 5*10**(-3)\n",
    "exploration_period = 340\n",
    "T = NUM_SAMPLES\n",
    "target_signal = 0.7\n",
    "sigma = np.sqrt(1.0 + target_signal**2) # FIX1\n",
    "k = 5\n",
    "\n",
    "Tau = 0.01\n",
    "\n",
    "print('prob at T_0: ', miss_prop_at_t(target_signal-Tau*T/exploration_period, n, R, k, sigma, target_signal, alpha, T, exploration_period))\n",
    "\n",
    "theta = 0.41\n",
    "print('prob during sampling: ', miss_prop_after_t(theta, Tau, n, R, k, sigma, target_signal, alpha, T, exploration_period))"
   ]
  },
  {
   "cell_type": "code",
   "execution_count": 12,
   "metadata": {},
   "outputs": [
    {
     "name": "stdout",
     "output_type": "stream",
     "text": [
      "0.7 0.005 0.01 499500.0 {'K': 5, 'R': 20000} 5500 0.05\n",
      "Saturating probability: 0.030583327188786508\n",
      "Saturating probability: 0.030583327188786508\n",
      "Saturating probability: 0.030583327188786508\n",
      "Saturating probability: 0.030583327188786508\n",
      "Saturating probability: 0.030583327188786508\n",
      "Saturating probability: 0.030583327188786508\n",
      "Saturating probability: 0.030583327188786508\n",
      "Saturating probability: 0.030583327188786508\n",
      "Saturating probability: 0.030583327188786508\n",
      "Saturating probability: 0.030583327188786508\n",
      "Saturating probability: 0.030583327188786508\n",
      "Saturating probability: 0.030583327188786508\n",
      "Saturating probability: 0.030583327188786508\n",
      "[(2750, 0.030583327188786508), (1375, 0.030583327238714972), (688, 0.03059349244630791), (344, 0.03536993316813619), (172, 0.13657791944783343), (258, 0.05312577936367579), (301, 0.04096579625126885), (279, 0.046019110698851534), (268, 0.04940573051626312), (263, 0.05118190343892018), (265, 0.05045214765655624), (266, 0.05009702851385227), (267, 0.04974826059697833)]\n",
      "EXPLORATION PERIOD:  267\n",
      "0.001 0.699 0.35 0.01885475372268459\n",
      "0.35 0.699 0.5245 0.0647696140024264\n",
      "0.5245 0.699 0.61175 0.18869136140798437\n",
      "0.5245 0.61175 0.568125 0.10494520499078164\n",
      "0.568125 0.61175 0.5899375 0.13873803309025368\n",
      "0.5899375 0.61175 0.60084375 0.1612021388028807\n",
      "0.5899375 0.60084375 0.5953906250000001 0.14941359601137297\n",
      "0.5953906250000001 0.60084375 0.5981171875 0.1551605198285802\n",
      "THETA:  0.5953906250000001\n"
     ]
    }
   ],
   "source": [
    "exploration_period = find_best_exploration_period_m2(target_signal, alpha, Tau, n, {\"K\":k, \"R\":R}, T, 0.05)\n",
    "print(\"EXPLORATION PERIOD: \", exploration_period)\n",
    "theta = find_best_theta(target_signal, alpha, Tau, n, {\"K\":k, \"R\":R}, T, exploration_period, 0.15)\n",
    "print(\"THETA: \", theta)"
   ]
  },
  {
   "cell_type": "markdown",
   "metadata": {},
   "source": [
    "## Experiments"
   ]
  },
  {
   "cell_type": "code",
   "execution_count": 18,
   "metadata": {},
   "outputs": [
    {
     "name": "stderr",
     "output_type": "stream",
     "text": [
      "/home/apd10/anaconda3/lib/python3.7/site-packages/ipykernel_launcher.py:68: RuntimeWarning: divide by zero encountered in true_divide\n",
      "/home/apd10/anaconda3/lib/python3.7/site-packages/ipykernel_launcher.py:68: RuntimeWarning: invalid value encountered in true_divide\n"
     ]
    }
   ],
   "source": [
    "mean_obs = np.apply_along_axis(np.mean, 0, data)\n",
    "var_obs = (data - mean_obs).T @ (data - mean_obs) / NUM_SAMPLES\n",
    "cor_obs = correlation_from_covariance(var_obs)\n",
    "var_diag = np.diag(var_obs)\n",
    "var_off_diag = var_obs[np.triu_indices(NUM_FEATURES, k=1)]\n",
    "cor_off_diag = cor_obs[np.triu_indices(NUM_FEATURES, k=1)]\n",
    "\n",
    "mean_obs_sample = np.apply_along_axis(np.mean, 0, data_sample)\n",
    "var_obs_sample = (data_sample - mean_obs_sample).T @ (data_sample - mean_obs_sample) / data_sample.shape[0]\n",
    "var_diag_sample = np.diag(var_obs_sample)\n",
    "var_off_diag_sample = var_obs_sample[np.triu_indices(NUM_FEATURES, k=1)]\n",
    "\n",
    "ID = [x for x in range(len(var_off_diag))]\n",
    "ID = np.array([str(x) for x in ID])"
   ]
  },
  {
   "cell_type": "code",
   "execution_count": 19,
   "metadata": {},
   "outputs": [
    {
     "data": {
      "text/plain": [
       "(243, 499500)"
      ]
     },
     "execution_count": 19,
     "metadata": {},
     "output_type": "execute_result"
    }
   ],
   "source": [
    "## Number of signal variables\n",
    "np.sum(np.abs(cor_off_diag)>target_signal), len(cor_off_diag)"
   ]
  },
  {
   "cell_type": "code",
   "execution_count": 25,
   "metadata": {},
   "outputs": [
    {
     "name": "stdout",
     "output_type": "stream",
     "text": [
      "0 0 267 0.01 174127\n",
      "1 267 367 0.020825284090909092 51083\n",
      "2 367 467 0.03165056818181818 17532\n",
      "3 467 567 0.04247585227272728 7119\n",
      "4 567 667 0.05330113636363637 3635\n",
      "5 667 767 0.06412642045454546 2387\n",
      "6 767 867 0.07495170454545455 1750\n",
      "7 867 967 0.08577698863636364 1375\n",
      "8 967 1067 0.09660227272727273 1152\n",
      "9 1067 1167 0.10742755681818184 1003\n",
      "10 1167 1267 0.11825284090909093 893\n",
      "11 1267 1367 0.12907812500000002 798\n",
      "12 1367 1467 0.13990340909090912 734\n",
      "13 1467 1567 0.15072869318181822 705\n",
      "14 1567 1667 0.1615539772727273 666\n",
      "15 1667 1767 0.17237926136363638 628\n",
      "16 1767 1867 0.18320454545454548 595\n",
      "17 1867 1967 0.19402982954545459 577\n",
      "18 1967 2067 0.2048551136363637 554\n",
      "19 2067 2167 0.21568039772727277 538\n",
      "20 2167 2267 0.22650568181818187 525\n",
      "21 2267 2367 0.23733096590909095 511\n",
      "22 2367 2467 0.24815625000000002 496\n",
      "23 2467 2567 0.2589815340909091 482\n",
      "24 2567 2667 0.26980681818181823 469\n",
      "25 2667 2767 0.28063210227272734 465\n",
      "26 2767 2867 0.29145738636363644 455\n",
      "27 2867 2967 0.3022826704545455 450\n",
      "28 2967 3067 0.3131079545454546 445\n",
      "29 3067 3167 0.3239332386363637 436\n",
      "30 3167 3267 0.33475852272727274 434\n",
      "31 3267 3367 0.34558380681818185 431\n",
      "32 3367 3467 0.35640909090909095 428\n",
      "33 3467 3567 0.36723437500000006 426\n",
      "34 3567 3667 0.37805965909090916 421\n",
      "35 3667 3767 0.3888849431818182 420\n",
      "36 3767 3867 0.39971022727272737 420\n",
      "37 3867 3967 0.4105355113636365 417\n",
      "38 3967 4067 0.4213607954545455 413\n",
      "39 4067 4167 0.4321860795454546 409\n",
      "40 4167 4267 0.44301136363636373 407\n",
      "41 4267 4367 0.4538366477272727 401\n",
      "42 4367 4467 0.4646619318181819 397\n",
      "43 4467 4567 0.475487215909091 396\n",
      "44 4567 4667 0.48631250000000004 394\n",
      "45 4667 4767 0.49713778409090914 394\n",
      "46 4767 4867 0.5079630681818182 393\n",
      "47 4867 4967 0.5187883522727273 391\n",
      "48 4967 5067 0.5296136363636365 388\n",
      "49 5067 5167 0.5404389204545454 386\n",
      "50 5167 5267 0.5512642045454547 384\n",
      "51 5267 5367 0.5620894886363638 384\n",
      "52 5367 5467 0.5729147727272729 381\n",
      "53 5467 5500 0.5837400568181819 375\n"
     ]
    }
   ],
   "source": [
    "data_norm = (data - mean_obs[None,:]) / (np.sqrt(var_diag)[None,:] + 1e-6)\n",
    "\n",
    "batch_size = 100\n",
    "block_end = list(np.arange(exploration_period, NUM_SAMPLES, batch_size)) + [NUM_SAMPLES]\n",
    "block_start = [0] + block_end[:-1]\n",
    "\n",
    "\n",
    "CS_RANGE = 20000\n",
    "CS_REP = 5\n",
    "\n",
    "sketch = count_sketch(CS_RANGE, CS_REP)\n",
    "sketch.clean\n",
    "\n",
    "for i, (start, end) in enumerate(zip(block_start, block_end)):\n",
    "    data_batch = data_norm[start:end,:]\n",
    "    var_batch = data_batch.T @ data_batch / NUM_SAMPLES\n",
    "    var_off_diag_batch = var_batch[np.triu_indices(NUM_FEATURES, k=1)]\n",
    "    \n",
    "    ## Filtering\n",
    "    if (i > 0):\n",
    "        var_off_diag_batch = var_off_diag_batch[index_retain]\n",
    "        ID_retain = np.array(ID)[index_retain]     \n",
    "    else:\n",
    "        index_retain = (np.ones(len(ID))>0)\n",
    "        ID_retain = ID\n",
    "    \n",
    "    ## Insertion\n",
    "    sketch.insert_ID_list(var_off_diag_batch, ID_retain)\n",
    "    \n",
    "    ## Retrieve\n",
    "    var_off_diag_2 = sketch.retrieve_ID_list(ID)\n",
    "    \n",
    "    ## \n",
    "    sample_threshold = Tau + theta*i/NUM_SAMPLES*batch_size\n",
    "    \n",
    "    index_retain = (np.abs(var_off_diag_2) > sample_threshold)\n",
    "    print(i,start,end, sample_threshold, np.sum(index_retain))\n",
    "    \n",
    "    #if (end==exploration_period) or ((end - block_end[0])  % 200 == 0):\n",
    "    #    print(end, round(sample_threshold, 5), np.sum(index_retain), \n",
    "    #          np.sum(index_retain*(cor_off_diag>target_signal)))\n",
    "        \n",
    "        \n",
    "with open('./gisette/results/CS_estimate(designed signal=%f).pickle' %target_signal, 'wb') as handle:\n",
    "    pickle.dump(var_off_diag_2, handle, protocol=pickle.HIGHEST_PROTOCOL)"
   ]
  },
  {
   "cell_type": "code",
   "execution_count": 32,
   "metadata": {},
   "outputs": [
    {
     "name": "stdout",
     "output_type": "stream",
     "text": [
      "Best F1 Score:  0.908695652173913\n"
     ]
    },
    {
     "name": "stderr",
     "output_type": "stream",
     "text": [
      "/home/apd10/anaconda3/lib/python3.7/site-packages/ipykernel_launcher.py:15: RuntimeWarning: invalid value encountered in long_scalars\n",
      "  from ipykernel import kernelapp as app\n"
     ]
    },
    {
     "data": {
      "image/png": "[encoded data removed]",
      "text/plain": [
       "<Figure size 432x288 with 1 Axes>"
      ]
     },
     "metadata": {
      "needs_background": "light"
     },
     "output_type": "display_data"
    },
    {
     "name": "stdout",
     "output_type": "stream",
     "text": [
      "[0.64167916 0.64457831 0.64555053 0.65243902 0.65243902 0.65443425\n",
      " 0.66049383 0.66459627 0.66666667 0.66770671 0.66770671 0.66979656\n",
      " 0.67189953 0.67507886 0.67507886 0.67936508 0.68152866 0.6848\n",
      " 0.68921095 0.70394737 0.72053872 0.73793103 0.75752212 0.7810219\n",
      " 0.8        0.81835564 0.83268482 0.85258964 0.86464646 0.88247423\n",
      " 0.90638298 0.90869565 0.88988764 0.87356322 0.85780886 0.83054893\n",
      " 0.81840194 0.80392157 0.78606965 0.77386935 0.73901809 0.72251309\n",
      " 0.69168901 0.67391304 0.64819945 0.64066852 0.62146893 0.59770115\n",
      " 0.59770115 0.59365994 0.59365994 0.59365994 0.59365994 0.58550725\n",
      " 0.58550725 0.58139535 0.58309038 0.58309038 0.56637168 0.51376147\n",
      " 0.35254237 0.15209125 0.056      0.00819672]\n"
     ]
    }
   ],
   "source": [
    "off_diag = cor_obs[np.triu_indices(NUM_FEATURES, k=1)] \n",
    "\n",
    "F1_score = []\n",
    "precision_list = []\n",
    "recall_list = [] \n",
    "\n",
    "\n",
    "threshold_list = np.arange(0.4, 1.1, 0.01)\n",
    "for thres in threshold_list:\n",
    "    positive_index = (np.abs(off_diag)>target_signal)\n",
    "    predict_positive_index = (np.abs(var_off_diag_2)>thres)\n",
    "    fn = np.sum(positive_index*(1-predict_positive_index))\n",
    "    tp = np.sum(predict_positive_index*positive_index)\n",
    "    \n",
    "    precision = tp/np.sum(predict_positive_index)\n",
    "    recall = tp/(tp+fn)\n",
    "\n",
    "    ## Deviation from the true covariance matrix\n",
    "    F1_score += [2*precision*recall/(precision+recall)]\n",
    "    precision_list += [precision]\n",
    "    recall_list += [recall]\n",
    "    \n",
    "F1_score = np.array(F1_score)\n",
    "mask = ~ np.isnan(F1_score)\n",
    "    \n",
    "print('Best F1 Score: ', np.max(F1_score[mask]))\n",
    "\n",
    "plt.plot(threshold_list[mask], F1_score[mask])\n",
    "plt.show()\n",
    "\n",
    "# plt.plot(threshold_list, precision_list)\n",
    "# plt.show()\n",
    "\n",
    "# plt.plot(threshold_list, recall_list)\n",
    "# plt.show()\n",
    "\n",
    "# plt.plot(1 - np.array(precision_list), np.array(recall_list))\n",
    "# plt.xlabel('1 - Precision')\n",
    "# plt.ylabel('Recall')\n",
    "# plt.show()\n",
    "print(F1_score[mask])"
   ]
  },
  {
   "cell_type": "code",
   "execution_count": 33,
   "metadata": {},
   "outputs": [
    {
     "name": "stderr",
     "output_type": "stream",
     "text": [
      "/home/apd10/anaconda3/lib/python3.7/site-packages/ipykernel_launcher.py:20: RuntimeWarning: invalid value encountered in double_scalars\n"
     ]
    },
    {
     "data": {
      "image/png": "[encoded data removed]",
      "text/plain": [
       "<Figure size 432x288 with 1 Axes>"
      ]
     },
     "metadata": {
      "needs_background": "light"
     },
     "output_type": "display_data"
    }
   ],
   "source": [
    "max_F1_score_list = []\n",
    "\n",
    "signal_list = np.arange(0.3, 0.7, 0.01)\n",
    "\n",
    "for signal in signal_list:\n",
    "    max_F1_score = 0\n",
    "    for thres in np.arange(signal-0.1, signal+0.4, 0.01):\n",
    "        positive_index = (np.abs(off_diag)>signal)\n",
    "        predict_positive_index = (np.abs(var_off_diag_2)>thres)\n",
    "        fn = np.sum(positive_index*(1-predict_positive_index))\n",
    "        tp = np.sum(predict_positive_index*positive_index)\n",
    "        \n",
    "        if np.sum(predict_positive_index) > 0:\n",
    "            precision = tp/np.sum(predict_positive_index)\n",
    "        else:\n",
    "            precision = 0\n",
    "        recall = tp/(tp+fn)\n",
    "\n",
    "        ## Deviation from the true covariance matrix\n",
    "        max_F1_score = max(max_F1_score, 2*precision*recall/(precision+recall))\n",
    "    max_F1_score_list += [max_F1_score]\n",
    "    \n",
    "plt.plot(signal_list, max_F1_score_list)\n",
    "plt.show()\n",
    "\n",
    "\n",
    "\n",
    "# with open('./gisette/results/max_F1_score_list(designed signal=%f).pickle' %target_signal, 'wb') as handle:\n",
    "#     pickle.dump(max_F1_score_list, handle, protocol=pickle.HIGHEST_PROTOCOL)"
   ]
  },
  {
   "cell_type": "code",
   "execution_count": 49,
   "metadata": {},
   "outputs": [
    {
     "data": {
      "text/plain": [
       "(5500, 1000)"
      ]
     },
     "execution_count": 49,
     "metadata": {},
     "output_type": "execute_result"
    }
   ],
   "source": []
  },
  {
   "cell_type": "markdown",
   "metadata": {},
   "source": [
    "## Conventional Count Sketch"
   ]
  },
  {
   "cell_type": "code",
   "execution_count": 45,
   "metadata": {},
   "outputs": [],
   "source": [
    "CS_RANGE = 20000\n",
    "CS_REP = 5\n",
    "\n",
    "sketch = count_sketch(CS_RANGE, CS_REP)\n",
    "sketch.clean\n",
    "\n",
    "data_norm = (data - mean_obs[None,:]) / (np.sqrt(var_diag)[None,:] +  1e-6)\n",
    "cor_off_diag = (data_norm.T @ data_norm / NUM_SAMPLES)[np.triu_indices(NUM_FEATURES, k=1)]\n",
    "\n",
    "for item, mem_id in zip(cor_off_diag, ID):\n",
    "    sketch.insert(item, mem_id)\n",
    "\n",
    "var_off_diag_3 = []\n",
    "# CMS_var = []\n",
    "for mem_id in ID:\n",
    "    var_off_diag_3 += [sketch.retrieve(mem_id)]\n",
    "    \n",
    "# var_off_diag_prod_2 = []\n",
    "# var_off_diag_sign_2 = []\n",
    "# for mem_id in ID:\n",
    "#     item_list = np.sort(sketch.retrieve_item_list(mem_id))\n",
    "#     var_off_diag_prod_2 += [np.prod(item_list[1:(sketch.k-1)])]\n",
    "#     var_off_diag_sign_2 += [np.sum(np.sign(item_list))]\n",
    "\n",
    "\n",
    "# with open('./gisette/results/CS_estimate(vanilla_CS).pickle', 'wb') as handle:\n",
    "#     pickle.dump(var_off_diag_3, handle, protocol=pickle.HIGHEST_PROTOCOL)"
   ]
  },
  {
   "cell_type": "code",
   "execution_count": 46,
   "metadata": {},
   "outputs": [
    {
     "name": "stdout",
     "output_type": "stream",
     "text": [
      "Best F1 Score:  0.7845804988662131\n"
     ]
    },
    {
     "data": {
      "image/png": "[encoded data removed]",
      "text/plain": [
       "<Figure size 432x288 with 1 Axes>"
      ]
     },
     "metadata": {
      "needs_background": "light"
     },
     "output_type": "display_data"
    }
   ],
   "source": [
    "off_diag = cor_obs[np.triu_indices(NUM_FEATURES, k=1)]\n",
    "\n",
    "F1_score_2 = []\n",
    "precision_list_2 = []\n",
    "recall_list_2 = []\n",
    "\n",
    "threshold_list = np.arange(0.4, 1.1, 0.01)\n",
    "    \n",
    "for thres in threshold_list:\n",
    "    positive_index = (np.abs(off_diag)>target_signal)*1\n",
    "    predict_positive_index = (np.abs(var_off_diag_3)>thres)\n",
    "    fn = np.sum(positive_index*(1-predict_positive_index))\n",
    "    tp = np.sum(predict_positive_index*positive_index)\n",
    "    precision = tp/np.sum(predict_positive_index)\n",
    "    recall = tp/(tp+fn)\n",
    "    \n",
    "    ## Deviation from the true covariance matrix\n",
    "    F1_score_2 += [2*precision*recall/(precision+recall)]\n",
    "    precision_list_2 += [precision]\n",
    "    recall_list_2 += [recall]\n",
    "\n",
    "    \n",
    "print('Best F1 Score: ', np.max(F1_score_2))\n",
    "plt.plot(threshold_list, F1_score_2)\n",
    "plt.show()"
   ]
  },
  {
   "cell_type": "code",
   "execution_count": 47,
   "metadata": {},
   "outputs": [
    {
     "name": "stdout",
     "output_type": "stream",
     "text": [
      "[0.47286594309181584, 0.48020706455542017, 0.4871974745703262, 0.49626078619367203, 0.5034382162950615, 0.5107256960292104, 0.518426294820717, 0.5236382322713258, 0.5327253218884119, 0.54241267977693, 0.5474824729126833, 0.5527538155275382, 0.5575620767494357, 0.5654368932038836, 0.576091751213057, 0.5844454670961804, 0.5874751491053678, 0.5987406983400114, 0.6041666666666667, 0.6095238095238095, 0.6187335092348285, 0.6205023761031908, 0.6279640228945217, 0.6461808604038629, 0.6547169811320754, 0.6634335596508244, 0.6686449060336301, 0.671067106710671, 0.688, 0.6939252336448598, 0.6956521739130436, 0.7165021156558533, 0.7299270072992702, 0.7443946188340808, 0.7553516819571865, 0.7578616352201258, 0.7699680511182109, 0.7707317073170731, 0.7714285714285714, 0.7763157894736842]\n"
     ]
    },
    {
     "data": {
      "image/png": "[encoded data removed]",
      "text/plain": [
       "<Figure size 432x288 with 1 Axes>"
      ]
     },
     "metadata": {
      "needs_background": "light"
     },
     "output_type": "display_data"
    }
   ],
   "source": [
    "max_F1_score_list_2 = []\n",
    "\n",
    "\n",
    "for signal in signal_list:\n",
    "    max_F1_score = 0\n",
    "    for thres in np.arange(signal-0.1, signal+0.4, 0.01):\n",
    "        positive_index = (np.abs(off_diag)>signal)\n",
    "        predict_positive_index = (np.abs(var_off_diag_3)>thres)\n",
    "        fn = np.sum(positive_index*(1-predict_positive_index))\n",
    "        tp = np.sum(predict_positive_index*positive_index)\n",
    "\n",
    "        precision = tp/np.sum(predict_positive_index)\n",
    "        recall = tp/(tp+fn)\n",
    "\n",
    "        ## Deviation from the true covariance matrix\n",
    "        max_F1_score = max(max_F1_score, 2*precision*recall/(precision+recall))\n",
    "    max_F1_score_list_2 += [max_F1_score]\n",
    "print(max_F1_score_list_2)\n",
    "plt.plot(signal_list, max_F1_score_list_2)\n",
    "plt.show()\n",
    "    \n",
    "# with open('./gisette/results/max_F1_score_list(vanilla_CS).pickle', 'wb') as handle:\n",
    "#     pickle.dump(max_F1_score_list_2, handle, protocol=pickle.HIGHEST_PROTOCOL)"
   ]
  },
  {
   "cell_type": "code",
   "execution_count": 48,
   "metadata": {},
   "outputs": [
    {
     "data": {
      "image/png": "[encoded data removed]",
      "text/plain": [
       "<Figure size 432x288 with 1 Axes>"
      ]
     },
     "metadata": {
      "needs_background": "light"
     },
     "output_type": "display_data"
    },
    {
     "data": {
      "image/png": "[encoded data removed]",
      "text/plain": [
       "<Figure size 432x288 with 1 Axes>"
      ]
     },
     "metadata": {
      "needs_background": "light"
     },
     "output_type": "display_data"
    },
    {
     "data": {
      "image/png": "[encoded data removed]",
      "text/plain": [
       "<Figure size 432x288 with 1 Axes>"
      ]
     },
     "metadata": {
      "needs_background": "light"
     },
     "output_type": "display_data"
    }
   ],
   "source": [
    "# threshold_list = np.arange(0.3, 1.1, 0.005)\n",
    "\n",
    "plt.plot(threshold_list, F1_score, label = 'with sampling')\n",
    "plt.plot(threshold_list, F1_score_2, label = 'without sampling')\n",
    "plt.title('F1 Score at different threshold (designed signal = %f)' %target_signal)\n",
    "plt.xlabel('Threshold')\n",
    "plt.ylabel('F1 Score')\n",
    "plt.legend()\n",
    "# plt.savefig('./Figures/Gisette/F1_score_using_different_thresholds(designed signal=%f).png' %target_signal)\n",
    "plt.show()\n",
    "\n",
    "\n",
    "\n",
    "plt.plot(signal_list, max_F1_score_list, label = 'with sampling')\n",
    "plt.plot(signal_list, max_F1_score_list_2, label = 'without sampling')\n",
    "plt.title('Max F1 Score at different signal level (designed signal = %f)' %target_signal)\n",
    "plt.xlabel('Signal Level')\n",
    "plt.ylabel('Max F1 Score')\n",
    "plt.legend()\n",
    "# plt.savefig('./Figures/Gisette/Max_F1_score_at_different_signal_level(designed signal=%f).png' %target_signal)\n",
    "plt.show()\n",
    "\n",
    "\n",
    "\n",
    "\n",
    "plt.plot(signal_list, np.array(max_F1_score_list) - np.array(max_F1_score_list_2), label = 'DIFF')\n",
    "plt.title('Max F1 Score at different signal level (designed signal = %f)' %target_signal)\n",
    "plt.xlabel('Signal Level')\n",
    "plt.ylabel('Max F1 Score')\n",
    "plt.legend()\n",
    "# plt.savefig('./Figures/Gisette/Max_F1_score_at_different_signal_level(designed signal=%f).png' %target_signal)\n",
    "plt.show()"
   ]
  },
  {
   "cell_type": "markdown",
   "metadata": {},
   "source": [
    "## Summary plot"
   ]
  },
  {
   "cell_type": "code",
   "execution_count": 38,
   "metadata": {},
   "outputs": [],
   "source": [
    "# with open('./gisette/results/max_F1_score_list(designed signal=0.5).pickle', 'rb') as handle:\n",
    "#     max_F1_list_1 = pickle.load(handle)\n",
    "    \n",
    "# with open('./gisette/results/max_F1_score_list(designed signal=0.6).pickle', 'rb') as handle:\n",
    "#     max_F1_list_2 = pickle.load(handle)\n",
    "    \n",
    "# with open('./gisette/results/max_F1_score_list(vanilla_CS).pickle', 'rb') as handle:\n",
    "#     max_F1_list_3 = pickle.load(handle)\n",
    "    \n",
    "    \n",
    "\n",
    "# plt.plot(signal_list, max_F1_list_1, label = 'designed signal level = 0.5')\n",
    "# plt.plot(signal_list, max_F1_list_2, label = 'designed signal level = 0.6')\n",
    "# plt.plot(signal_list, max_F1_list_3, label = 'vanilla count sketch')\n",
    "# plt.title('Max F1 Score at different signal level (designed signal = %f)' %target_signal)\n",
    "# plt.xlabel('Signal Level')\n",
    "# plt.ylabel('Max F1 Score')\n",
    "# plt.legend()\n",
    "# plt.savefig('./Figures/Gisette/Max_F1_score_at_different_signal_level(designed signal=%f).png' %target_signal)\n",
    "# plt.show()"
   ]
  },
  {
   "cell_type": "code",
   "execution_count": null,
   "metadata": {},
   "outputs": [],
   "source": []
  }
 ],
 "metadata": {
  "kernelspec": {
   "display_name": "Python 3",
   "language": "python",
   "name": "python3"
  },
  "language_info": {
   "codemirror_mode": {
    "name": "ipython",
    "version": 3
   },
   "file_extension": ".py",
   "mimetype": "text/x-python",
   "name": "python",
   "nbconvert_exporter": "python",
   "pygments_lexer": "ipython3",
   "version": "3.7.3"
  }
 },
 "nbformat": 4,
 "nbformat_minor": 2
}
